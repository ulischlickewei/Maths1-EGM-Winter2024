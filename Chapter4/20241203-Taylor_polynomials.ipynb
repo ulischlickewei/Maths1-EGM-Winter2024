{
 "cells": [
  {
   "cell_type": "markdown",
   "id": "0531a02c-92e9-42ed-ae2c-c4ac94f51571",
   "metadata": {},
   "source": [
    "## Exercise on page 12"
   ]
  },
  {
   "cell_type": "code",
   "execution_count": 2,
   "id": "d403bba5-24ca-47bf-a218-adedb86e82b1",
   "metadata": {},
   "outputs": [],
   "source": [
    "def taylor(x, f, x0, n):\n",
    "    \"\"\"Inputs: x = symbolic variable, f = symbolic expression in x,\n",
    "    x0 = point of development for Taylor polynomial,\n",
    "    n = degree of Taylor polynomial\n",
    "\n",
    "    Output: n-th Taylor polynomial of f a x0 as symbolic expression\n",
    "    \"\"\"\n",
    "\n",
    "    import sympy\n",
    "    Tn = 0\n",
    "    for k in range(n+1):\n",
    "        Tn += sympy.diff(f,x,k).subs(x,x0) / sympy.factorial(k) * (x-x0)**k\n",
    "    return Tn"
   ]
  },
  {
   "cell_type": "code",
   "execution_count": 4,
   "id": "7e35d45e-856e-4f5f-98ab-d08b09809e79",
   "metadata": {},
   "outputs": [
    {
     "data": {
      "text/latex": [
       "$\\displaystyle 22 x + 9 \\left(x - 2\\right)^{2} - 27$"
      ],
      "text/plain": [
       "22*x + 9*(x - 2)**2 - 27"
      ]
     },
     "execution_count": 4,
     "metadata": {},
     "output_type": "execute_result"
    }
   ],
   "source": [
    "from sympy import *\n",
    "x = symbols('x')\n",
    "f = x**3 + 3*x**2 - 2*x + 1\n",
    "x0 = 2\n",
    "taylor(x,f,x0,2)"
   ]
  },
  {
   "cell_type": "markdown",
   "id": "a201d439-88ac-479f-8cdf-8e5cd07b8444",
   "metadata": {},
   "source": [
    "## Taylor polynomial of sine function (p.13)"
   ]
  },
  {
   "cell_type": "code",
   "execution_count": 6,
   "id": "d519389f-e025-4e01-bd85-7f6fafb35cd6",
   "metadata": {},
   "outputs": [
    {
     "data": {
      "text/latex": [
       "$\\displaystyle x + O\\left(x^{2}\\right)$"
      ],
      "text/plain": [
       "x + O(x**2)"
      ]
     },
     "execution_count": 6,
     "metadata": {},
     "output_type": "execute_result"
    }
   ],
   "source": [
    "# series(function sin(x), variable x, point of\n",
    "# development 0, degree where T is cutted 2 (i.e.\n",
    "# precise computation up to degree 1)\n",
    "T1 = series(sin(x),x,0,2)\n",
    "T1"
   ]
  },
  {
   "cell_type": "code",
   "execution_count": 8,
   "id": "2d8bf4b5-c8c0-4865-b366-9e623a328f78",
   "metadata": {},
   "outputs": [
    {
     "data": {
      "text/latex": [
       "$\\displaystyle x - \\frac{x^{3}}{6} + O\\left(x^{4}\\right)$"
      ],
      "text/plain": [
       "x - x**3/6 + O(x**4)"
      ]
     },
     "execution_count": 8,
     "metadata": {},
     "output_type": "execute_result"
    }
   ],
   "source": [
    "T3 = series(sin(x),x,0,4)\n",
    "T3"
   ]
  },
  {
   "cell_type": "code",
   "execution_count": null,
   "id": "9d342a52-535b-4a17-a784-3a9bf23fe21b",
   "metadata": {},
   "outputs": [],
   "source": [
    "T5 = series(sin(x),x,0,6)\n",
    "T5"
   ]
  },
  {
   "cell_type": "code",
   "execution_count": 12,
   "id": "ab504a52-7fbf-41c2-b6dd-904f78df9be5",
   "metadata": {},
   "outputs": [
    {
     "data": {
      "text/latex": [
       "$\\displaystyle x - \\frac{x^{3}}{6} + \\frac{x^{5}}{120} - \\frac{x^{7}}{5040} + O\\left(x^{8}\\right)$"
      ],
      "text/plain": [
       "x - x**3/6 + x**5/120 - x**7/5040 + O(x**8)"
      ]
     },
     "execution_count": 12,
     "metadata": {},
     "output_type": "execute_result"
    }
   ],
   "source": [
    "T7 = series(sin(x),x,0,8)\n",
    "T7"
   ]
  },
  {
   "cell_type": "code",
   "execution_count": 13,
   "id": "c21188e9-59fa-4cf0-8622-99a6c43247f0",
   "metadata": {},
   "outputs": [
    {
     "ename": "NameError",
     "evalue": "name 'O' is not defined",
     "output_type": "error",
     "traceback": [
      "\u001b[0;31m---------------------------------------------------------------------------\u001b[0m",
      "\u001b[0;31mNameError\u001b[0m                                 Traceback (most recent call last)",
      "Cell \u001b[0;32mIn[13], line 1\u001b[0m\n\u001b[0;32m----> 1\u001b[0m \u001b[43mplot\u001b[49m\u001b[43m(\u001b[49m\u001b[43msin\u001b[49m\u001b[43m(\u001b[49m\u001b[43mx\u001b[49m\u001b[43m)\u001b[49m\u001b[43m,\u001b[49m\u001b[43mT1\u001b[49m\u001b[43m,\u001b[49m\u001b[43mT3\u001b[49m\u001b[43m,\u001b[49m\u001b[43mT5\u001b[49m\u001b[43m,\u001b[49m\u001b[43mT7\u001b[49m\u001b[43m,\u001b[49m\u001b[43m(\u001b[49m\u001b[43mx\u001b[49m\u001b[43m,\u001b[49m\u001b[38;5;241;43m-\u001b[39;49m\u001b[43mpi\u001b[49m\u001b[43m,\u001b[49m\u001b[43mpi\u001b[49m\u001b[43m)\u001b[49m\u001b[43m)\u001b[49m\n",
      "File \u001b[0;32m/opt/tljh/user/lib/python3.9/site-packages/sympy/plotting/plot.py:1873\u001b[0m, in \u001b[0;36mplot\u001b[0;34m(show, *args, **kwargs)\u001b[0m\n\u001b[1;32m   1871\u001b[0m plots \u001b[38;5;241m=\u001b[39m Plot(\u001b[38;5;241m*\u001b[39mseries, \u001b[38;5;241m*\u001b[39m\u001b[38;5;241m*\u001b[39mkwargs)\n\u001b[1;32m   1872\u001b[0m \u001b[38;5;28;01mif\u001b[39;00m show:\n\u001b[0;32m-> 1873\u001b[0m     \u001b[43mplots\u001b[49m\u001b[38;5;241;43m.\u001b[39;49m\u001b[43mshow\u001b[49m\u001b[43m(\u001b[49m\u001b[43m)\u001b[49m\n\u001b[1;32m   1874\u001b[0m \u001b[38;5;28;01mreturn\u001b[39;00m plots\n",
      "File \u001b[0;32m/opt/tljh/user/lib/python3.9/site-packages/sympy/plotting/plot.py:251\u001b[0m, in \u001b[0;36mPlot.show\u001b[0;34m(self)\u001b[0m\n\u001b[1;32m    249\u001b[0m     \u001b[38;5;28mself\u001b[39m\u001b[38;5;241m.\u001b[39m_backend\u001b[38;5;241m.\u001b[39mclose()\n\u001b[1;32m    250\u001b[0m \u001b[38;5;28mself\u001b[39m\u001b[38;5;241m.\u001b[39m_backend \u001b[38;5;241m=\u001b[39m \u001b[38;5;28mself\u001b[39m\u001b[38;5;241m.\u001b[39mbackend(\u001b[38;5;28mself\u001b[39m)\n\u001b[0;32m--> 251\u001b[0m \u001b[38;5;28;43mself\u001b[39;49m\u001b[38;5;241;43m.\u001b[39;49m\u001b[43m_backend\u001b[49m\u001b[38;5;241;43m.\u001b[39;49m\u001b[43mshow\u001b[49m\u001b[43m(\u001b[49m\u001b[43m)\u001b[49m\n",
      "File \u001b[0;32m/opt/tljh/user/lib/python3.9/site-packages/sympy/plotting/plot.py:1549\u001b[0m, in \u001b[0;36mMatplotlibBackend.show\u001b[0;34m(self)\u001b[0m\n\u001b[1;32m   1548\u001b[0m \u001b[38;5;28;01mdef\u001b[39;00m \u001b[38;5;21mshow\u001b[39m(\u001b[38;5;28mself\u001b[39m):\n\u001b[0;32m-> 1549\u001b[0m     \u001b[38;5;28;43mself\u001b[39;49m\u001b[38;5;241;43m.\u001b[39;49m\u001b[43mprocess_series\u001b[49m\u001b[43m(\u001b[49m\u001b[43m)\u001b[49m\n\u001b[1;32m   1550\u001b[0m     \u001b[38;5;66;03m#TODO after fixing https://github.com/ipython/ipython/issues/1255\u001b[39;00m\n\u001b[1;32m   1551\u001b[0m     \u001b[38;5;66;03m# you can uncomment the next line and remove the pyplot.show() call\u001b[39;00m\n\u001b[1;32m   1552\u001b[0m     \u001b[38;5;66;03m#self.fig.show()\u001b[39;00m\n\u001b[1;32m   1553\u001b[0m     \u001b[38;5;28;01mif\u001b[39;00m _show:\n",
      "File \u001b[0;32m/opt/tljh/user/lib/python3.9/site-packages/sympy/plotting/plot.py:1546\u001b[0m, in \u001b[0;36mMatplotlibBackend.process_series\u001b[0;34m(self)\u001b[0m\n\u001b[1;32m   1544\u001b[0m \u001b[38;5;28;01mif\u001b[39;00m \u001b[38;5;28misinstance\u001b[39m(\u001b[38;5;28mself\u001b[39m\u001b[38;5;241m.\u001b[39mparent, PlotGrid):\n\u001b[1;32m   1545\u001b[0m     parent \u001b[38;5;241m=\u001b[39m \u001b[38;5;28mself\u001b[39m\u001b[38;5;241m.\u001b[39mparent\u001b[38;5;241m.\u001b[39margs[i]\n\u001b[0;32m-> 1546\u001b[0m \u001b[38;5;28;43mself\u001b[39;49m\u001b[38;5;241;43m.\u001b[39;49m\u001b[43m_process_series\u001b[49m\u001b[43m(\u001b[49m\u001b[43mseries\u001b[49m\u001b[43m,\u001b[49m\u001b[43m \u001b[49m\u001b[43max\u001b[49m\u001b[43m,\u001b[49m\u001b[43m \u001b[49m\u001b[43mparent\u001b[49m\u001b[43m)\u001b[49m\n",
      "File \u001b[0;32m/opt/tljh/user/lib/python3.9/site-packages/sympy/plotting/plot.py:1367\u001b[0m, in \u001b[0;36mMatplotlibBackend._process_series\u001b[0;34m(self, series, ax, parent)\u001b[0m\n\u001b[1;32m   1364\u001b[0m \u001b[38;5;28;01mfor\u001b[39;00m s \u001b[38;5;129;01min\u001b[39;00m series:\n\u001b[1;32m   1365\u001b[0m     \u001b[38;5;66;03m# Create the collections\u001b[39;00m\n\u001b[1;32m   1366\u001b[0m     \u001b[38;5;28;01mif\u001b[39;00m s\u001b[38;5;241m.\u001b[39mis_2Dline:\n\u001b[0;32m-> 1367\u001b[0m         x, y \u001b[38;5;241m=\u001b[39m \u001b[43ms\u001b[49m\u001b[38;5;241;43m.\u001b[39;49m\u001b[43mget_data\u001b[49m\u001b[43m(\u001b[49m\u001b[43m)\u001b[49m\n\u001b[1;32m   1368\u001b[0m         \u001b[38;5;28;01mif\u001b[39;00m (\u001b[38;5;28misinstance\u001b[39m(s\u001b[38;5;241m.\u001b[39mline_color, (\u001b[38;5;28mint\u001b[39m, \u001b[38;5;28mfloat\u001b[39m)) \u001b[38;5;129;01mor\u001b[39;00m\n\u001b[1;32m   1369\u001b[0m                 \u001b[38;5;28mcallable\u001b[39m(s\u001b[38;5;241m.\u001b[39mline_color)):\n\u001b[1;32m   1370\u001b[0m             segments \u001b[38;5;241m=\u001b[39m \u001b[38;5;28mself\u001b[39m\u001b[38;5;241m.\u001b[39mget_segments(x, y)\n",
      "File \u001b[0;32m/opt/tljh/user/lib/python3.9/site-packages/sympy/plotting/plot.py:605\u001b[0m, in \u001b[0;36mLine2DBaseSeries.get_data\u001b[0;34m(self)\u001b[0m\n\u001b[1;32m    591\u001b[0m \u001b[38;5;250m\u001b[39m\u001b[38;5;124;03m\"\"\" Return lists of coordinates for plotting the line.\u001b[39;00m\n\u001b[1;32m    592\u001b[0m \n\u001b[1;32m    593\u001b[0m \u001b[38;5;124;03mReturns\u001b[39;00m\n\u001b[0;32m   (...)\u001b[0m\n\u001b[1;32m    602\u001b[0m \u001b[38;5;124;03m        List of z-coordinates in case of Parametric3DLineSeries\u001b[39;00m\n\u001b[1;32m    603\u001b[0m \u001b[38;5;124;03m\"\"\"\u001b[39;00m\n\u001b[1;32m    604\u001b[0m np \u001b[38;5;241m=\u001b[39m import_module(\u001b[38;5;124m'\u001b[39m\u001b[38;5;124mnumpy\u001b[39m\u001b[38;5;124m'\u001b[39m)\n\u001b[0;32m--> 605\u001b[0m points \u001b[38;5;241m=\u001b[39m \u001b[38;5;28;43mself\u001b[39;49m\u001b[38;5;241;43m.\u001b[39;49m\u001b[43mget_points\u001b[49m\u001b[43m(\u001b[49m\u001b[43m)\u001b[49m\n\u001b[1;32m    606\u001b[0m \u001b[38;5;28;01mif\u001b[39;00m \u001b[38;5;28mself\u001b[39m\u001b[38;5;241m.\u001b[39msteps \u001b[38;5;129;01mis\u001b[39;00m \u001b[38;5;28;01mTrue\u001b[39;00m:\n\u001b[1;32m    607\u001b[0m     \u001b[38;5;28;01mif\u001b[39;00m \u001b[38;5;28mlen\u001b[39m(points) \u001b[38;5;241m==\u001b[39m \u001b[38;5;241m2\u001b[39m:\n",
      "File \u001b[0;32m/opt/tljh/user/lib/python3.9/site-packages/sympy/plotting/plot.py:779\u001b[0m, in \u001b[0;36mLineOver1DRangeSeries.get_points\u001b[0;34m(self)\u001b[0m\n\u001b[1;32m    776\u001b[0m         x_coords\u001b[38;5;241m.\u001b[39mappend(q[\u001b[38;5;241m0\u001b[39m])\n\u001b[1;32m    777\u001b[0m         y_coords\u001b[38;5;241m.\u001b[39mappend(q[\u001b[38;5;241m1\u001b[39m])\n\u001b[0;32m--> 779\u001b[0m f_start \u001b[38;5;241m=\u001b[39m \u001b[43mf\u001b[49m\u001b[43m(\u001b[49m\u001b[38;5;28;43mself\u001b[39;49m\u001b[38;5;241;43m.\u001b[39;49m\u001b[43mstart\u001b[49m\u001b[43m)\u001b[49m\n\u001b[1;32m    780\u001b[0m f_end \u001b[38;5;241m=\u001b[39m f(\u001b[38;5;28mself\u001b[39m\u001b[38;5;241m.\u001b[39mend)\n\u001b[1;32m    781\u001b[0m x_coords\u001b[38;5;241m.\u001b[39mappend(\u001b[38;5;28mself\u001b[39m\u001b[38;5;241m.\u001b[39mstart)\n",
      "File \u001b[0;32m/opt/tljh/user/lib/python3.9/site-packages/sympy/plotting/experimental_lambdify.py:176\u001b[0m, in \u001b[0;36mlambdify.__call__\u001b[0;34m(self, args)\u001b[0m\n\u001b[1;32m    173\u001b[0m \u001b[38;5;28;01mdef\u001b[39;00m \u001b[38;5;21m__call__\u001b[39m(\u001b[38;5;28mself\u001b[39m, args):\n\u001b[1;32m    174\u001b[0m     \u001b[38;5;28;01mtry\u001b[39;00m:\n\u001b[1;32m    175\u001b[0m         \u001b[38;5;66;03m#The result can be sympy.Float. Hence wrap it with complex type.\u001b[39;00m\n\u001b[0;32m--> 176\u001b[0m         result \u001b[38;5;241m=\u001b[39m \u001b[38;5;28mcomplex\u001b[39m(\u001b[38;5;28;43mself\u001b[39;49m\u001b[38;5;241;43m.\u001b[39;49m\u001b[43mlambda_func\u001b[49m\u001b[43m(\u001b[49m\u001b[43margs\u001b[49m\u001b[43m)\u001b[49m)\n\u001b[1;32m    177\u001b[0m         \u001b[38;5;28;01mif\u001b[39;00m \u001b[38;5;28mabs\u001b[39m(result\u001b[38;5;241m.\u001b[39mimag) \u001b[38;5;241m>\u001b[39m \u001b[38;5;241m1e-7\u001b[39m \u001b[38;5;241m*\u001b[39m \u001b[38;5;28mabs\u001b[39m(result):\n\u001b[1;32m    178\u001b[0m             \u001b[38;5;28;01mreturn\u001b[39;00m \u001b[38;5;28;01mNone\u001b[39;00m\n",
      "File \u001b[0;32m/opt/tljh/user/lib/python3.9/site-packages/sympy/plotting/experimental_lambdify.py:272\u001b[0m, in \u001b[0;36mLambdifier.__call__\u001b[0;34m(self, *args, **kwargs)\u001b[0m\n\u001b[1;32m    271\u001b[0m \u001b[38;5;28;01mdef\u001b[39;00m \u001b[38;5;21m__call__\u001b[39m(\u001b[38;5;28mself\u001b[39m, \u001b[38;5;241m*\u001b[39margs, \u001b[38;5;241m*\u001b[39m\u001b[38;5;241m*\u001b[39mkwargs):\n\u001b[0;32m--> 272\u001b[0m     \u001b[38;5;28;01mreturn\u001b[39;00m \u001b[38;5;28;43mself\u001b[39;49m\u001b[38;5;241;43m.\u001b[39;49m\u001b[43mlambda_func\u001b[49m\u001b[43m(\u001b[49m\u001b[38;5;241;43m*\u001b[39;49m\u001b[43margs\u001b[49m\u001b[43m,\u001b[49m\u001b[43m \u001b[49m\u001b[38;5;241;43m*\u001b[39;49m\u001b[38;5;241;43m*\u001b[39;49m\u001b[43mkwargs\u001b[49m\u001b[43m)\u001b[49m\n",
      "File \u001b[0;32m<string>:1\u001b[0m, in \u001b[0;36m<lambda>\u001b[0;34m(x0)\u001b[0m\n",
      "\u001b[0;31mNameError\u001b[0m: name 'O' is not defined"
     ]
    },
    {
     "data": {
      "image/png": "[encoded data removed]",
      "text/plain": [
       "<Figure size 640x480 with 1 Axes>"
      ]
     },
     "metadata": {},
     "output_type": "display_data"
    }
   ],
   "source": [
    "plot(sin(x),T1.removeO(),T3,T5,T7,(x,-pi,pi))"
   ]
  },
  {
   "cell_type": "code",
   "execution_count": null,
   "id": "38ca6647-b713-4710-873a-21e4acb9cb0f",
   "metadata": {},
   "outputs": [],
   "source": []
  }
 ],
 "metadata": {
  "kernelspec": {
   "display_name": "Python 3 (ipykernel)",
   "language": "python",
   "name": "python3"
  },
  "language_info": {
   "codemirror_mode": {
    "name": "ipython",
    "version": 3
   },
   "file_extension": ".py",
   "mimetype": "text/x-python",
   "name": "python",
   "nbconvert_exporter": "python",
   "pygments_lexer": "ipython3",
   "version": "3.9.7"
  }
 },
 "nbformat": 4,
 "nbformat_minor": 5
}
