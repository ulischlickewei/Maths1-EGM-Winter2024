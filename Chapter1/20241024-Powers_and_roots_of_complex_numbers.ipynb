{
 "cells": [
  {
   "cell_type": "markdown",
   "id": "effa817b-c2cf-4f40-ba7a-0159ca6b4ad4",
   "metadata": {},
   "source": [
    "# Exercise sheet 1, Exercise 5 "
   ]
  },
  {
   "cell_type": "code",
   "execution_count": 4,
   "id": "e1470848-a5ad-4c20-bef0-61fc5bbf10b1",
   "metadata": {},
   "outputs": [
    {
     "data": {
      "text/latex": [
       "$\\displaystyle \\frac{3 - i}{- a + i}$"
      ],
      "text/plain": [
       "(3 - I)/(-a + I)"
      ]
     },
     "execution_count": 4,
     "metadata": {},
     "output_type": "execute_result"
    }
   ],
   "source": [
    "from sympy import *\n",
    "a = symbols('a', real=True)\n",
    "z = ((abs(4+I))**2 + exp(I*pi/2).conjugate() - (1/(abs(2-3*I)**2))**(-1) + I**2) / (I-a)\n",
    "z"
   ]
  },
  {
   "cell_type": "code",
   "execution_count": 5,
   "id": "c2932c99-d1f6-41fd-9a9b-86135519884c",
   "metadata": {},
   "outputs": [
    {
     "data": {
      "text/latex": [
       "$\\displaystyle - \\frac{3 a}{a^{2} + 1} - \\frac{1}{a^{2} + 1}$"
      ],
      "text/plain": [
       "-3*a/(a**2 + 1) - 1/(a**2 + 1)"
      ]
     },
     "execution_count": 5,
     "metadata": {},
     "output_type": "execute_result"
    }
   ],
   "source": [
    "re(z)"
   ]
  },
  {
   "cell_type": "code",
   "execution_count": 6,
   "id": "87afb6c4-c03d-4ae7-a110-56bc8e7c38c6",
   "metadata": {},
   "outputs": [
    {
     "data": {
      "text/latex": [
       "$\\displaystyle \\frac{a}{a^{2} + 1} - \\frac{3}{a^{2} + 1}$"
      ],
      "text/plain": [
       "a/(a**2 + 1) - 3/(a**2 + 1)"
      ]
     },
     "execution_count": 6,
     "metadata": {},
     "output_type": "execute_result"
    }
   ],
   "source": [
    "im(z)"
   ]
  },
  {
   "cell_type": "code",
   "execution_count": 7,
   "id": "0d3aba00-986d-49ed-857d-108546019e3d",
   "metadata": {},
   "outputs": [
    {
     "data": {
      "text/plain": [
       "[1/2]"
      ]
     },
     "execution_count": 7,
     "metadata": {},
     "output_type": "execute_result"
    }
   ],
   "source": [
    "# solves the equation re(z)-im(z)=0 for a\n",
    "solve(re(z)-im(z),a)"
   ]
  },
  {
   "cell_type": "markdown",
   "id": "1be3a257-3d05-4b97-a034-2546bd8f0b62",
   "metadata": {},
   "source": [
    "## Exercise sheet 1, Ex 7"
   ]
  },
  {
   "cell_type": "code",
   "execution_count": 10,
   "id": "5b834ad2-932d-4989-862a-8edccf98ab6c",
   "metadata": {},
   "outputs": [
    {
     "data": {
      "text/latex": [
       "$\\displaystyle 0.97$"
      ],
      "text/plain": [
       "0.97"
      ]
     },
     "execution_count": 10,
     "metadata": {},
     "output_type": "execute_result"
    }
   ],
   "source": [
    "round(3*arg(3+I).evalf(),2)"
   ]
  },
  {
   "cell_type": "code",
   "execution_count": 11,
   "id": "2ae8a4be-4a61-468e-984d-23a43a81f5d4",
   "metadata": {},
   "outputs": [
    {
     "data": {
      "text/plain": [
       "2.712"
      ]
     },
     "execution_count": 11,
     "metadata": {},
     "output_type": "execute_result"
    }
   ],
   "source": [
    "round(2.71234098435,3)"
   ]
  },
  {
   "cell_type": "code",
   "execution_count": 12,
   "id": "9a81ada9-5008-4707-a993-ef4cf1c503a1",
   "metadata": {},
   "outputs": [
    {
     "data": {
      "text/latex": [
       "$\\displaystyle 0.321750554396642$"
      ],
      "text/plain": [
       "0.321750554396642"
      ]
     },
     "execution_count": 12,
     "metadata": {},
     "output_type": "execute_result"
    }
   ],
   "source": [
    "arg(3+I).evalf()"
   ]
  },
  {
   "cell_type": "code",
   "execution_count": null,
   "id": "94e8482a-bab0-4d30-8183-c0d203c22dec",
   "metadata": {},
   "outputs": [],
   "source": []
  }
 ],
 "metadata": {
  "kernelspec": {
   "display_name": "Python 3 (ipykernel)",
   "language": "python",
   "name": "python3"
  },
  "language_info": {
   "codemirror_mode": {
    "name": "ipython",
    "version": 3
   },
   "file_extension": ".py",
   "mimetype": "text/x-python",
   "name": "python",
   "nbconvert_exporter": "python",
   "pygments_lexer": "ipython3",
   "version": "3.9.7"
  }
 },
 "nbformat": 4,
 "nbformat_minor": 5
}
