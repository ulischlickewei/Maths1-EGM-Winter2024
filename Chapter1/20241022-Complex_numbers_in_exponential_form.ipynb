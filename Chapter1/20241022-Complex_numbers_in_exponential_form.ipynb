{
 "cells": [
  {
   "cell_type": "code",
   "execution_count": 1,
   "id": "e88fa8d3-9960-4377-9677-f674a7a84bcd",
   "metadata": {},
   "outputs": [],
   "source": [
    "from sympy import *\n"
   ]
  },
  {
   "cell_type": "code",
   "execution_count": 2,
   "id": "d93d70a8-9113-44b6-9857-5e15d78d7052",
   "metadata": {},
   "outputs": [],
   "source": [
    "#Transform z = 2+3i into exponential form\n",
    "z = 2+3*I\n",
    "r = abs(z)\n",
    "phi = arg(z)\n"
   ]
  },
  {
   "cell_type": "code",
   "execution_count": 4,
   "id": "1bcb69fe-ee38-424a-89d2-6421ad46a061",
   "metadata": {},
   "outputs": [
    {
     "data": {
      "text/latex": [
       "$\\displaystyle \\sqrt{13} e^{i \\operatorname{atan}{\\left(\\frac{3}{2} \\right)}}$"
      ],
      "text/plain": [
       "sqrt(13)*exp(I*atan(3/2))"
      ]
     },
     "execution_count": 4,
     "metadata": {},
     "output_type": "execute_result"
    }
   ],
   "source": [
    "r*exp(I*phi)"
   ]
  },
  {
   "cell_type": "code",
   "execution_count": 5,
   "id": "41dc8deb-dc3c-4c72-96f1-43d0b815865f",
   "metadata": {},
   "outputs": [
    {
     "data": {
      "text/latex": [
       "$\\displaystyle 0.982793723247329$"
      ],
      "text/plain": [
       "0.982793723247329"
      ]
     },
     "execution_count": 5,
     "metadata": {},
     "output_type": "execute_result"
    }
   ],
   "source": [
    "phi.evalf()\n"
   ]
  },
  {
   "cell_type": "code",
   "execution_count": 8,
   "id": "aa0a8d0c-d06a-44fe-a666-e049a6d81218",
   "metadata": {},
   "outputs": [],
   "source": [
    "# Transform w = 1-i into exponential form\n",
    "w = 1-I\n",
    "r = abs(w)\n",
    "phi = arg(w)"
   ]
  },
  {
   "cell_type": "code",
   "execution_count": 9,
   "id": "440aafe0-20d7-4da6-a387-8f635c595c83",
   "metadata": {},
   "outputs": [
    {
     "data": {
      "text/latex": [
       "$\\displaystyle \\sqrt{2} e^{- \\frac{i \\pi}{4}}$"
      ],
      "text/plain": [
       "sqrt(2)*exp(-I*pi/4)"
      ]
     },
     "execution_count": 9,
     "metadata": {},
     "output_type": "execute_result"
    }
   ],
   "source": [
    "r*exp(I*phi)"
   ]
  },
  {
   "cell_type": "markdown",
   "id": "a22273ef-4aaf-48f7-b87f-7c71c9024789",
   "metadata": {},
   "source": [
    "## Example from page 29\n"
   ]
  },
  {
   "cell_type": "code",
   "execution_count": 10,
   "id": "02029285-c93b-4441-941b-b02570ef1e06",
   "metadata": {},
   "outputs": [
    {
     "data": {
      "text/latex": [
       "$\\displaystyle \\frac{1}{2}$"
      ],
      "text/plain": [
       "1/2"
      ]
     },
     "execution_count": 10,
     "metadata": {},
     "output_type": "execute_result"
    }
   ],
   "source": [
    "cos(-pi/3\n",
    "   )"
   ]
  },
  {
   "cell_type": "code",
   "execution_count": 11,
   "id": "158c55bf-be82-4eaf-8c6d-91d6f0b660ae",
   "metadata": {},
   "outputs": [
    {
     "data": {
      "text/latex": [
       "$\\displaystyle - \\frac{\\sqrt{3}}{2}$"
      ],
      "text/plain": [
       "-sqrt(3)/2"
      ]
     },
     "execution_count": 11,
     "metadata": {},
     "output_type": "execute_result"
    }
   ],
   "source": [
    "sin(-pi/3\n",
    "   )"
   ]
  },
  {
   "cell_type": "code",
   "execution_count": null,
   "id": "d191b16e-52c1-4f93-b225-69823fa0e398",
   "metadata": {},
   "outputs": [],
   "source": []
  }
 ],
 "metadata": {
  "kernelspec": {
   "display_name": "Python 3 (ipykernel)",
   "language": "python",
   "name": "python3"
  },
  "language_info": {
   "codemirror_mode": {
    "name": "ipython",
    "version": 3
   },
   "file_extension": ".py",
   "mimetype": "text/x-python",
   "name": "python",
   "nbconvert_exporter": "python",
   "pygments_lexer": "ipython3",
   "version": "3.9.7"
  }
 },
 "nbformat": 4,
 "nbformat_minor": 5
}
