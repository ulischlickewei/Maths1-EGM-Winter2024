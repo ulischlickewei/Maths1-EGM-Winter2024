{
 "cells": [
  {
   "cell_type": "markdown",
   "id": "d2a2d391-7259-4c22-b60f-046af65c0c40",
   "metadata": {},
   "source": [
    "## Introducing SymPy\n",
    "\n",
    "In this class, we will work a lot with the package SymPy. SymPy allows for symbolic computations. Also, in SymPy all mathematical that we use are preimplemented."
   ]
  },
  {
   "cell_type": "code",
   "execution_count": 1,
   "id": "6eea42e4-f5d0-4bdf-b941-7616436dc029",
   "metadata": {},
   "outputs": [],
   "source": [
    "from sympy import *"
   ]
  },
  {
   "cell_type": "markdown",
   "id": "a32a8618-3dbc-460c-8525-44642cf342f9",
   "metadata": {},
   "source": [
    "SymPy has for example the exponential implemented. We can call it by calling exp."
   ]
  },
  {
   "cell_type": "code",
   "execution_count": 2,
   "id": "4346c8c1-9392-443b-93d8-d1da0b0c4915",
   "metadata": {},
   "outputs": [
    {
     "data": {
      "text/latex": [
       "$\\displaystyle e$"
      ],
      "text/plain": [
       "E"
      ]
     },
     "execution_count": 2,
     "metadata": {},
     "output_type": "execute_result"
    }
   ],
   "source": [
    "exp(1)"
   ]
  },
  {
   "cell_type": "markdown",
   "id": "0e773b97-2147-4c34-85c4-79fe5c009a7d",
   "metadata": {},
   "source": [
    "The fundamental difference between sympy and math is the following: computations in math rely on floating point numbers. These are decimal numbers which have a limited (even though a very high) level of precision. In contrast sympy relies on so-called symbolic computations which are exact whenever possible."
   ]
  },
  {
   "cell_type": "code",
   "execution_count": 3,
   "id": "68351209-c7de-4b61-8449-5b65c04d937e",
   "metadata": {},
   "outputs": [
    {
     "data": {
      "text/latex": [
       "$\\displaystyle e^{4}$"
      ],
      "text/plain": [
       "exp(4)"
      ]
     },
     "execution_count": 3,
     "metadata": {},
     "output_type": "execute_result"
    }
   ],
   "source": [
    "# Example\n",
    "exp(2)*exp(2)"
   ]
  },
  {
   "cell_type": "code",
   "execution_count": 4,
   "id": "59f3f50b-68ce-4c8d-9668-61c725298047",
   "metadata": {},
   "outputs": [
    {
     "data": {
      "text/plain": [
       "54.59815003314424"
      ]
     },
     "execution_count": 4,
     "metadata": {},
     "output_type": "execute_result"
    }
   ],
   "source": [
    "import math\n",
    "math.exp(2) * math.exp(2)"
   ]
  },
  {
   "cell_type": "markdown",
   "id": "e6e21340-e523-4b20-850d-fa8c263d4904",
   "metadata": {},
   "source": [
    "SymPy represents the result of $\\mathrm{e}^2 \\cdot \\mathrm{e}^2$ as the exact value $\\mathrm{e}^4$, there is no rounding to a finite decimal number taking place. In this sense, the result is exact.\n",
    "\n",
    "Sometimes, we are interested in obtaining the result as a decimal number, of course at the price of losing precision. This can be done using the evalf() method:"
   ]
  },
  {
   "cell_type": "code",
   "execution_count": 5,
   "id": "566dc9f3-b468-4095-b55a-5755e07d69dc",
   "metadata": {},
   "outputs": [
    {
     "data": {
      "text/latex": [
       "$\\displaystyle 54.5981500331442$"
      ],
      "text/plain": [
       "54.5981500331442"
      ]
     },
     "execution_count": 5,
     "metadata": {},
     "output_type": "execute_result"
    }
   ],
   "source": [
    "(exp(2)*exp(2)).evalf()"
   ]
  },
  {
   "cell_type": "code",
   "execution_count": 6,
   "id": "cbc3679d-6063-4a8b-a8cc-7ed67cc4025f",
   "metadata": {},
   "outputs": [
    {
     "data": {
      "text/latex": [
       "$\\displaystyle e^{4}$"
      ],
      "text/plain": [
       "exp(4)"
      ]
     },
     "execution_count": 6,
     "metadata": {},
     "output_type": "execute_result"
    }
   ],
   "source": [
    "x = exp(2)*exp(2)\n",
    "x"
   ]
  },
  {
   "cell_type": "code",
   "execution_count": 7,
   "id": "a2e84f4b-2500-4740-8f7d-51c3d47c739f",
   "metadata": {},
   "outputs": [
    {
     "data": {
      "text/latex": [
       "$\\displaystyle 54.5981500331442$"
      ],
      "text/plain": [
       "54.5981500331442"
      ]
     },
     "execution_count": 7,
     "metadata": {},
     "output_type": "execute_result"
    }
   ],
   "source": [
    "x.evalf()"
   ]
  },
  {
   "cell_type": "markdown",
   "id": "542a7484-721e-47b7-b032-1760e0e10520",
   "metadata": {},
   "source": [
    "## Complex numbers in SymPy"
   ]
  },
  {
   "cell_type": "markdown",
   "id": "dcb7dae9-c6da-4198-9d35-9986c6692594",
   "metadata": {},
   "source": [
    "The imaginary unit $i$ is represented as `I` in SymPy:"
   ]
  },
  {
   "cell_type": "code",
   "execution_count": 8,
   "id": "892881c3-29dc-40b2-ac7d-81f8cf716273",
   "metadata": {},
   "outputs": [
    {
     "data": {
      "text/latex": [
       "$\\displaystyle 2 + 2 i$"
      ],
      "text/plain": [
       "2 + 2*I"
      ]
     },
     "execution_count": 8,
     "metadata": {},
     "output_type": "execute_result"
    }
   ],
   "source": [
    "# Example: 2+2i in SymPy\n",
    "2 + 2*I"
   ]
  },
  {
   "cell_type": "markdown",
   "id": "7d1a5a66-6866-4f6c-8cbf-a160c89d4745",
   "metadata": {},
   "source": [
    "Arithmetic operations can be carried out as expected:"
   ]
  },
  {
   "cell_type": "code",
   "execution_count": 9,
   "id": "97db33b6-eb9e-433a-a0e4-40a61f211bd2",
   "metadata": {},
   "outputs": [
    {
     "data": {
      "text/latex": [
       "$\\displaystyle \\left(2 - 4 i\\right) \\left(2 + 2 i\\right)$"
      ],
      "text/plain": [
       "(2 - 4*I)*(2 + 2*I)"
      ]
     },
     "execution_count": 9,
     "metadata": {},
     "output_type": "execute_result"
    }
   ],
   "source": [
    "# Example: Multiplication of two complex numbers in SymPy\n",
    "(2+2*I) * (2-4*I)"
   ]
  },
  {
   "cell_type": "markdown",
   "id": "13be562b-651e-4529-a403-65dce9863676",
   "metadata": {},
   "source": [
    "Sometimes, SymPy does not execute certain arithmetic operations but rather keeps them in its memory. To force SymPy to evaluate them, use the `expand` method:"
   ]
  },
  {
   "cell_type": "code",
   "execution_count": 10,
   "id": "6c725156-8479-479b-aaba-6ebb53588f91",
   "metadata": {},
   "outputs": [
    {
     "data": {
      "text/latex": [
       "$\\displaystyle 12 - 4 i$"
      ],
      "text/plain": [
       "12 - 4*I"
      ]
     },
     "execution_count": 10,
     "metadata": {},
     "output_type": "execute_result"
    }
   ],
   "source": [
    "((2+2*I) * (2-4*I)).expand()"
   ]
  },
  {
   "cell_type": "code",
   "execution_count": 11,
   "id": "1fdc88e5-dda7-45ba-b158-31f7879755a1",
   "metadata": {},
   "outputs": [
    {
     "data": {
      "text/latex": [
       "$\\displaystyle -1$"
      ],
      "text/plain": [
       "-1"
      ]
     },
     "execution_count": 11,
     "metadata": {},
     "output_type": "execute_result"
    }
   ],
   "source": [
    "I**2"
   ]
  },
  {
   "cell_type": "markdown",
   "id": "b8c4df6a-5f74-4f59-b780-5f91fd16e565",
   "metadata": {},
   "source": [
    "**Exercise**:\n",
    "Let $z_1 = 1+2\\mathrm{i}$, let $z_2 = 3-4\\mathrm{i}$. Compute the imaganary part of $$\\frac{z_1\\cdot z_2}{4z_1-z_2}$$"
   ]
  },
  {
   "cell_type": "code",
   "execution_count": 12,
   "id": "e3646120-0955-4a0c-90da-9ab1636dc677",
   "metadata": {},
   "outputs": [],
   "source": [
    "z1 = 1+2*I\n",
    "z2 = 3-4*I\n",
    "z = z1*z2/(4*z1-z2)"
   ]
  },
  {
   "cell_type": "code",
   "execution_count": 14,
   "id": "94ea2d14-1620-40fc-82fa-14515fa02fca",
   "metadata": {},
   "outputs": [
    {
     "data": {
      "text/latex": [
       "$\\displaystyle \\frac{7}{29} - \\frac{26 i}{29}$"
      ],
      "text/plain": [
       "7/29 - 26*I/29"
      ]
     },
     "execution_count": 14,
     "metadata": {},
     "output_type": "execute_result"
    }
   ],
   "source": [
    "z.expand()"
   ]
  },
  {
   "cell_type": "code",
   "execution_count": 15,
   "id": "bdfebd6d-fe21-4110-9dbe-bebdf0154201",
   "metadata": {},
   "outputs": [
    {
     "data": {
      "text/latex": [
       "$\\displaystyle \\frac{7}{29} - \\frac{26 i}{29}$"
      ],
      "text/plain": [
       "7/29 - 26*I/29"
      ]
     },
     "execution_count": 15,
     "metadata": {},
     "output_type": "execute_result"
    }
   ],
   "source": [
    "z.simplify()"
   ]
  },
  {
   "cell_type": "markdown",
   "id": "136bc355-3e09-4d5c-b5e0-7c05b4bf2a35",
   "metadata": {},
   "source": [
    "Answer: $\\mathrm{Im}(z) = -\\frac{26}{29}$."
   ]
  },
  {
   "cell_type": "markdown",
   "id": "cfe8a0bb-b22e-4650-aef1-c00e962c6b66",
   "metadata": {},
   "source": [
    "### Real and imaginary parts in SymPy"
   ]
  },
  {
   "cell_type": "code",
   "execution_count": 16,
   "id": "4a249803-c97f-44f9-b478-032cf89136ab",
   "metadata": {},
   "outputs": [
    {
     "data": {
      "text/latex": [
       "$\\displaystyle \\frac{7}{29}$"
      ],
      "text/plain": [
       "7/29"
      ]
     },
     "execution_count": 16,
     "metadata": {},
     "output_type": "execute_result"
    }
   ],
   "source": [
    "# Real part:\n",
    "re(z)"
   ]
  },
  {
   "cell_type": "code",
   "execution_count": 17,
   "id": "7127d133-d377-439a-9425-c54b4753cd49",
   "metadata": {},
   "outputs": [
    {
     "data": {
      "text/latex": [
       "$\\displaystyle - \\frac{26}{29}$"
      ],
      "text/plain": [
       "-26/29"
      ]
     },
     "execution_count": 17,
     "metadata": {},
     "output_type": "execute_result"
    }
   ],
   "source": [
    "# Imaginary part\n",
    "im(z)"
   ]
  },
  {
   "cell_type": "markdown",
   "id": "b791917a-2315-49e7-9d20-72d9def26de5",
   "metadata": {},
   "source": [
    "### Complex conjugation in SymPy"
   ]
  },
  {
   "cell_type": "code",
   "execution_count": 18,
   "id": "c7be41e0-b793-482b-b884-4dbc81f5983a",
   "metadata": {},
   "outputs": [
    {
     "data": {
      "text/latex": [
       "$\\displaystyle 2 + 3 i$"
      ],
      "text/plain": [
       "2 + 3*I"
      ]
     },
     "execution_count": 18,
     "metadata": {},
     "output_type": "execute_result"
    }
   ],
   "source": [
    "z = 2+3*I\n",
    "z"
   ]
  },
  {
   "cell_type": "code",
   "execution_count": 19,
   "id": "486d08d0-b275-4109-a128-0833060c44c4",
   "metadata": {},
   "outputs": [
    {
     "data": {
      "text/latex": [
       "$\\displaystyle 2 - 3 i$"
      ],
      "text/plain": [
       "2 - 3*I"
      ]
     },
     "execution_count": 19,
     "metadata": {},
     "output_type": "execute_result"
    }
   ],
   "source": [
    "z.conjugate()"
   ]
  },
  {
   "cell_type": "markdown",
   "id": "0d8b7a6a-ca7d-40fb-bf85-a954bdab0de7",
   "metadata": {},
   "source": [
    "### Absolute value in SymPy"
   ]
  },
  {
   "cell_type": "code",
   "execution_count": 20,
   "id": "12588804-9920-49cc-90ab-66e0238ebbef",
   "metadata": {},
   "outputs": [
    {
     "data": {
      "text/latex": [
       "$\\displaystyle \\sqrt{13}$"
      ],
      "text/plain": [
       "sqrt(13)"
      ]
     },
     "execution_count": 20,
     "metadata": {},
     "output_type": "execute_result"
    }
   ],
   "source": [
    "z = 2 +3*I\n",
    "abs(z)"
   ]
  },
  {
   "cell_type": "code",
   "execution_count": 23,
   "id": "f80ab94f-1e3a-4dde-b649-4f06ed537df1",
   "metadata": {},
   "outputs": [
    {
     "data": {
      "text/latex": [
       "$\\displaystyle \\sqrt{13}$"
      ],
      "text/plain": [
       "sqrt(13)"
      ]
     },
     "execution_count": 23,
     "metadata": {},
     "output_type": "execute_result"
    }
   ],
   "source": [
    "Abs(z)"
   ]
  },
  {
   "cell_type": "markdown",
   "id": "3f747535-b052-49b5-95f6-0ab73620668e",
   "metadata": {},
   "source": [
    "### Angle of a complex number in SymPy"
   ]
  },
  {
   "cell_type": "code",
   "execution_count": 26,
   "id": "e040a215-2c8e-4637-ba33-985f10b50e6c",
   "metadata": {},
   "outputs": [],
   "source": [
    "z = 2+3*I"
   ]
  },
  {
   "cell_type": "code",
   "execution_count": 27,
   "id": "09a47fd4-6050-427e-9e5a-32fe292eb2ba",
   "metadata": {},
   "outputs": [
    {
     "data": {
      "text/latex": [
       "$\\displaystyle \\operatorname{atan}{\\left(\\frac{3}{2} \\right)}$"
      ],
      "text/plain": [
       "atan(3/2)"
      ]
     },
     "execution_count": 27,
     "metadata": {},
     "output_type": "execute_result"
    }
   ],
   "source": [
    "# angle of z\n",
    "arg(z)"
   ]
  },
  {
   "cell_type": "code",
   "execution_count": 28,
   "id": "b2bed963-f93e-4a72-802e-9a73e331e5e0",
   "metadata": {},
   "outputs": [
    {
     "data": {
      "text/latex": [
       "$\\displaystyle 0.982793723247329$"
      ],
      "text/plain": [
       "0.982793723247329"
      ]
     },
     "execution_count": 28,
     "metadata": {},
     "output_type": "execute_result"
    }
   ],
   "source": [
    "# in order to get a decimal number --> evalf()\n",
    "arg(z).evalf()"
   ]
  },
  {
   "cell_type": "markdown",
   "id": "6f467aca-689d-4c9a-902e-8f9dfd800178",
   "metadata": {},
   "source": [
    "Note: This answer is in radians!"
   ]
  },
  {
   "cell_type": "markdown",
   "id": "4453aab7-22a2-4311-af04-52a1452331ad",
   "metadata": {},
   "source": [
    "### Symbols\n",
    "We can define complex numbers in SymPy that depend on undetermined parameters. For example, to define the complex number\n",
    "$$z = 2a + 4\\mathrm{i}$$\n",
    "with some unknown parameter $a$, we proceed as follows:"
   ]
  },
  {
   "cell_type": "code",
   "execution_count": 29,
   "id": "6294c630-1c8c-4dc5-93d7-dc7dd9f6e64e",
   "metadata": {},
   "outputs": [
    {
     "data": {
      "text/latex": [
       "$\\displaystyle a$"
      ],
      "text/plain": [
       "a"
      ]
     },
     "execution_count": 29,
     "metadata": {},
     "output_type": "execute_result"
    }
   ],
   "source": [
    "a = symbols('a', real=True) # introduce a new symbolic variable which is printed as 'a'\n",
    "a"
   ]
  },
  {
   "cell_type": "code",
   "execution_count": 30,
   "id": "c64f8dab-309a-42b8-8d26-c0565ca1d4b1",
   "metadata": {},
   "outputs": [
    {
     "data": {
      "text/latex": [
       "$\\displaystyle 2 a + 4 i$"
      ],
      "text/plain": [
       "2*a + 4*I"
      ]
     },
     "execution_count": 30,
     "metadata": {},
     "output_type": "execute_result"
    }
   ],
   "source": [
    "z=2*a + 4*I\n",
    "z"
   ]
  },
  {
   "cell_type": "code",
   "execution_count": 31,
   "id": "07b3d576-d2fc-4ca4-a496-c5398e4248b9",
   "metadata": {},
   "outputs": [
    {
     "data": {
      "text/latex": [
       "$\\displaystyle i$"
      ],
      "text/plain": [
       "I"
      ]
     },
     "execution_count": 31,
     "metadata": {},
     "output_type": "execute_result"
    }
   ],
   "source": [
    "exp(I*pi/2)"
   ]
  },
  {
   "cell_type": "code",
   "execution_count": null,
   "id": "951525af-6afa-4598-892a-2a4dcd2b6078",
   "metadata": {},
   "outputs": [],
   "source": []
  }
 ],
 "metadata": {
  "kernelspec": {
   "display_name": "Python 3 (ipykernel)",
   "language": "python",
   "name": "python3"
  },
  "language_info": {
   "codemirror_mode": {
    "name": "ipython",
    "version": 3
   },
   "file_extension": ".py",
   "mimetype": "text/x-python",
   "name": "python",
   "nbconvert_exporter": "python",
   "pygments_lexer": "ipython3",
   "version": "3.9.7"
  }
 },
 "nbformat": 4,
 "nbformat_minor": 5
}
