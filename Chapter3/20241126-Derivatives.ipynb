{
 "cells": [
  {
   "cell_type": "markdown",
   "id": "a0282b1f-a4df-49c9-876f-4ed378eb70b0",
   "metadata": {},
   "source": [
    "## Exercise sheet 6, Ex. 6"
   ]
  },
  {
   "cell_type": "code",
   "execution_count": 1,
   "id": "9c9b2a84-d5cd-4818-8adc-1ef546892bab",
   "metadata": {},
   "outputs": [
    {
     "data": {
      "text/plain": [
       "2.0052083333333335"
      ]
     },
     "execution_count": 1,
     "metadata": {},
     "output_type": "execute_result"
    }
   ],
   "source": [
    "2+1/192"
   ]
  },
  {
   "cell_type": "code",
   "execution_count": 2,
   "id": "a87eb972-1f5b-4404-bb20-c602f01df84c",
   "metadata": {},
   "outputs": [
    {
     "data": {
      "text/plain": [
       "2.0051747451504216"
      ]
     },
     "execution_count": 2,
     "metadata": {},
     "output_type": "execute_result"
    }
   ],
   "source": [
    "65**(1/6)"
   ]
  },
  {
   "cell_type": "markdown",
   "id": "7d139e06-7a86-4232-96b5-19307f25e387",
   "metadata": {},
   "source": [
    "## Derivatives in Python"
   ]
  },
  {
   "cell_type": "code",
   "execution_count": 3,
   "id": "71b9f1cf-f87b-42c4-87bb-750036fa5574",
   "metadata": {},
   "outputs": [],
   "source": [
    "from sympy import * \n",
    "x = symbols('x')"
   ]
  },
  {
   "cell_type": "code",
   "execution_count": 4,
   "id": "88f1c273-574b-46e8-9c13-49b82207b7e1",
   "metadata": {},
   "outputs": [
    {
     "data": {
      "text/latex": [
       "$\\displaystyle 3^{- x} x^{1.5}$"
      ],
      "text/plain": [
       "x**1.5/3**x"
      ]
     },
     "execution_count": 4,
     "metadata": {},
     "output_type": "execute_result"
    }
   ],
   "source": [
    "f = x**(1.5)/(3**x)\n",
    "f"
   ]
  },
  {
   "cell_type": "code",
   "execution_count": 6,
   "id": "99e20c80-def7-47af-9078-0626083f4e48",
   "metadata": {},
   "outputs": [
    {
     "data": {
      "text/latex": [
       "$\\displaystyle 1.5 \\cdot 3^{- x} x^{0.5} - 3^{- x} x^{1.5} \\log{\\left(3 \\right)}$"
      ],
      "text/plain": [
       "1.5*x**0.5/3**x - x**1.5*log(3)/3**x"
      ]
     },
     "execution_count": 6,
     "metadata": {},
     "output_type": "execute_result"
    }
   ],
   "source": [
    "# Compute derivative\n",
    "diff(f,x)"
   ]
  },
  {
   "cell_type": "code",
   "execution_count": 7,
   "id": "537e416a-6bdb-49c3-b79f-95b0591b136c",
   "metadata": {},
   "outputs": [
    {
     "data": {
      "text/latex": [
       "$\\displaystyle \\operatorname{atan}{\\left(x \\right)}$"
      ],
      "text/plain": [
       "atan(x)"
      ]
     },
     "execution_count": 7,
     "metadata": {},
     "output_type": "execute_result"
    }
   ],
   "source": [
    "f=atan(x)\n",
    "f"
   ]
  },
  {
   "cell_type": "code",
   "execution_count": 8,
   "id": "87695e3f-35f1-46ac-8c3d-08827948c6c0",
   "metadata": {},
   "outputs": [
    {
     "data": {
      "text/latex": [
       "$\\displaystyle \\frac{1}{x^{2} + 1}$"
      ],
      "text/plain": [
       "1/(x**2 + 1)"
      ]
     },
     "execution_count": 8,
     "metadata": {},
     "output_type": "execute_result"
    }
   ],
   "source": [
    "diff(f,x)"
   ]
  },
  {
   "cell_type": "markdown",
   "id": "2c73d5bc-3314-4f60-8d4b-8836dbb0b6c4",
   "metadata": {},
   "source": [
    "## Example on page 65"
   ]
  },
  {
   "cell_type": "code",
   "execution_count": 15,
   "id": "967b178e-d27d-4fa6-8e8a-47640d3af46c",
   "metadata": {},
   "outputs": [
    {
     "data": {
      "text/latex": [
       "$\\displaystyle 0.541926070139289$"
      ],
      "text/plain": [
       "0.541926070139289"
      ]
     },
     "execution_count": 15,
     "metadata": {},
     "output_type": "execute_result"
    }
   ],
   "source": [
    "r = symbols('r')\n",
    "r0 = (1/(2*pi))**(1/3)\n",
    "r0.evalf()"
   ]
  },
  {
   "cell_type": "code",
   "execution_count": 12,
   "id": "e2d79b44-8c25-48bf-97bd-671a80a9be7c",
   "metadata": {},
   "outputs": [
    {
     "data": {
      "text/latex": [
       "$\\displaystyle 2 \\pi r^{2} + \\frac{2}{r}$"
      ],
      "text/plain": [
       "2*pi*r**2 + 2/r"
      ]
     },
     "execution_count": 12,
     "metadata": {},
     "output_type": "execute_result"
    }
   ],
   "source": [
    "A = 2*pi*r**2 + 2/r\n",
    "A"
   ]
  },
  {
   "cell_type": "code",
   "execution_count": 17,
   "id": "b8459002-8258-475d-8bda-627102d2d114",
   "metadata": {},
   "outputs": [
    {
     "data": {
      "image/png": "[encoded data removed]",
      "text/plain": [
       "<Figure size 640x480 with 1 Axes>"
      ]
     },
     "metadata": {},
     "output_type": "display_data"
    },
    {
     "data": {
      "text/plain": [
       "<sympy.plotting.plot.Plot at 0x7fc3eac96130>"
      ]
     },
     "execution_count": 17,
     "metadata": {},
     "output_type": "execute_result"
    }
   ],
   "source": [
    "plot(A,(r,0.2,3))"
   ]
  },
  {
   "cell_type": "code",
   "execution_count": null,
   "id": "3a5a0f89-f55a-47a8-a4e3-ebcf993ae38e",
   "metadata": {},
   "outputs": [],
   "source": []
  }
 ],
 "metadata": {
  "kernelspec": {
   "display_name": "Python 3 (ipykernel)",
   "language": "python",
   "name": "python3"
  },
  "language_info": {
   "codemirror_mode": {
    "name": "ipython",
    "version": 3
   },
   "file_extension": ".py",
   "mimetype": "text/x-python",
   "name": "python",
   "nbconvert_exporter": "python",
   "pygments_lexer": "ipython3",
   "version": "3.9.7"
  }
 },
 "nbformat": 4,
 "nbformat_minor": 5
}
