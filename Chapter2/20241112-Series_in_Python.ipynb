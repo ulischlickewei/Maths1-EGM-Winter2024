{
 "cells": [
  {
   "cell_type": "markdown",
   "id": "47a8c1df-de64-40c4-872e-a5ed4211476a",
   "metadata": {},
   "source": [
    "## Partial sums of the geometric series"
   ]
  },
  {
   "cell_type": "code",
   "execution_count": 1,
   "id": "3cc3d4af-3e82-4ebd-aabd-b51308f52d70",
   "metadata": {},
   "outputs": [],
   "source": [
    "def geometric_series(n):\n",
    "    # computes the n-th partial sum of the\n",
    "    # geometric series with q = 1/2\n",
    "    S = 0 #initializing variable which computes sum\n",
    "    for k in range(n+1):\n",
    "        S = S + 1/2**k\n",
    "    return S"
   ]
  },
  {
   "cell_type": "code",
   "execution_count": 6,
   "id": "418644f2-6a19-4852-b605-1763271ef6f1",
   "metadata": {},
   "outputs": [
    {
     "name": "stdout",
     "output_type": "stream",
     "text": [
      "S_ 1  =  1.5\n",
      "S_ 10  =  1.9990234375\n",
      "S_ 100  =  2.0\n",
      "S_ 1000  =  2.0\n",
      "S_ 10000  =  2.0\n",
      "S_ 100000  =  2.0\n"
     ]
    }
   ],
   "source": [
    "for n in range(6):\n",
    "    print('S_', 10**n, ' = ', \\\n",
    "          geometric_series(10**n))"
   ]
  },
  {
   "cell_type": "code",
   "execution_count": 2,
   "id": "1bb0f170-5dfb-47a9-b1db-d641dc106040",
   "metadata": {},
   "outputs": [
    {
     "data": {
      "text/plain": [
       "1.0"
      ]
     },
     "execution_count": 2,
     "metadata": {},
     "output_type": "execute_result"
    }
   ],
   "source": [
    "geometric_series(0)"
   ]
  },
  {
   "cell_type": "code",
   "execution_count": 3,
   "id": "7f0042db-500e-468c-b94f-b1dcf34a507f",
   "metadata": {},
   "outputs": [
    {
     "data": {
      "text/plain": [
       "1.5"
      ]
     },
     "execution_count": 3,
     "metadata": {},
     "output_type": "execute_result"
    }
   ],
   "source": [
    "geometric_series(1)"
   ]
  },
  {
   "cell_type": "code",
   "execution_count": 4,
   "id": "0834e434-09c7-4227-8a41-33a23e80412b",
   "metadata": {},
   "outputs": [
    {
     "data": {
      "text/plain": [
       "1.75"
      ]
     },
     "execution_count": 4,
     "metadata": {},
     "output_type": "execute_result"
    }
   ],
   "source": [
    "geometric_series(2)"
   ]
  },
  {
   "cell_type": "markdown",
   "id": "987d2d24-0d56-43e4-921a-7219ec6c2806",
   "metadata": {},
   "source": [
    "## Series with SymPy"
   ]
  },
  {
   "cell_type": "code",
   "execution_count": 7,
   "id": "5b8693af-b73f-4b02-b9df-496fe4f7f138",
   "metadata": {},
   "outputs": [],
   "source": [
    "from sympy import *"
   ]
  },
  {
   "cell_type": "code",
   "execution_count": 9,
   "id": "4fa94f9c-d5d6-4d23-953e-903acc9c263d",
   "metadata": {},
   "outputs": [
    {
     "data": {
      "text/latex": [
       "$\\displaystyle \\sum_{n=0}^{10} 3^{- n}$"
      ],
      "text/plain": [
       "Sum(3**(-n), (n, 0, 10))"
      ]
     },
     "execution_count": 9,
     "metadata": {},
     "output_type": "execute_result"
    }
   ],
   "source": [
    "# Geometric series with q = 1/3\n",
    "n = symbols('n')\n",
    "S = Sum(1/3**n, (n,0,10))\n",
    "S"
   ]
  },
  {
   "cell_type": "code",
   "execution_count": 10,
   "id": "e67be427-ed39-4ddc-8705-68e293cec3f9",
   "metadata": {},
   "outputs": [
    {
     "data": {
      "text/latex": [
       "$\\displaystyle \\frac{88573}{59049}$"
      ],
      "text/plain": [
       "88573/59049"
      ]
     },
     "execution_count": 10,
     "metadata": {},
     "output_type": "execute_result"
    }
   ],
   "source": [
    "# To compute this value use doit()\n",
    "S.doit()"
   ]
  },
  {
   "cell_type": "code",
   "execution_count": 12,
   "id": "23bf9854-15be-427d-80f6-3ff187ff471a",
   "metadata": {},
   "outputs": [
    {
     "data": {
      "text/latex": [
       "$\\displaystyle \\frac{3}{2}$"
      ],
      "text/plain": [
       "3/2"
      ]
     },
     "execution_count": 12,
     "metadata": {},
     "output_type": "execute_result"
    }
   ],
   "source": [
    "# To compute the inifite series (if possible)\n",
    "S = Sum(1/3**n,(n,0,oo))\n",
    "S.doit()"
   ]
  },
  {
   "cell_type": "code",
   "execution_count": 13,
   "id": "70ead438-3bf5-4dfe-914f-667e352e9182",
   "metadata": {},
   "outputs": [
    {
     "data": {
      "text/latex": [
       "$\\displaystyle \\text{True}$"
      ],
      "text/plain": [
       "True"
      ]
     },
     "execution_count": 13,
     "metadata": {},
     "output_type": "execute_result"
    }
   ],
   "source": [
    "# Check wether convergent\n",
    "S.is_convergent()"
   ]
  },
  {
   "cell_type": "code",
   "execution_count": null,
   "id": "02a815e9-cb01-46fa-846a-eb8e85a50f38",
   "metadata": {},
   "outputs": [],
   "source": []
  }
 ],
 "metadata": {
  "kernelspec": {
   "display_name": "Python 3 (ipykernel)",
   "language": "python",
   "name": "python3"
  },
  "language_info": {
   "codemirror_mode": {
    "name": "ipython",
    "version": 3
   },
   "file_extension": ".py",
   "mimetype": "text/x-python",
   "name": "python",
   "nbconvert_exporter": "python",
   "pygments_lexer": "ipython3",
   "version": "3.9.7"
  }
 },
 "nbformat": 4,
 "nbformat_minor": 5
}
