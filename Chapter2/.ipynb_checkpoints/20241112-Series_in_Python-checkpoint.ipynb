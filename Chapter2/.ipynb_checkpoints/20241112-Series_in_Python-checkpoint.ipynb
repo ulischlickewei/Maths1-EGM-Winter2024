{
 "cells": [
  {
   "cell_type": "code",
   "execution_count": null,
   "id": "1e911efb-ec2d-4a27-b60c-9559927704b2",
   "metadata": {},
   "outputs": [],
   "source": []
  }
 ],
 "metadata": {
  "kernelspec": {
   "display_name": "Python 3 (ipykernel)",
   "language": "python",
   "name": "python3"
  },
  "language_info": {
   "codemirror_mode": {
    "name": "ipython",
    "version": 3
   },
   "file_extension": ".py",
   "mimetype": "text/x-python",
   "name": "python",
   "nbconvert_exporter": "python",
   "pygments_lexer": "ipython3",
   "version": "3.9.7"
  }
 },
 "nbformat": 4,
 "nbformat_minor": 5
}
